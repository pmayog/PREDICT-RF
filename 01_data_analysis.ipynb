{
 "cells": [
  {
   "cell_type": "markdown",
   "id": "9dfd710c-147c-4b31-ba7b-42bca4435522",
   "metadata": {},
   "source": [
    "From the \"create_dataset.py\" file we obtained a dataframe which contains all the compueted features (sequence and structure information) for each residue of the included ligand-protein complexes retrieved form the PDBind database. In this script the data is preprocessed and cleaned in order to further develop a machine learning-based algorithm for LBSs prediction. "
   ]
  },
  {
   "cell_type": "code",
   "execution_count": 1,
   "id": "12f83612-14ec-4367-9887-c63c069cf523",
   "metadata": {},
   "outputs": [],
   "source": [
    "# to handle datasets\n",
    "import numpy as np\n",
    "import pandas as pd\n",
    "\n",
    "# for plotting\n",
    "import matplotlib.pyplot as plt\n",
    "import seaborn as sns"
   ]
  },
  {
   "cell_type": "code",
   "execution_count": 2,
   "id": "bba4d310-85de-4464-91da-7b6a06f3e066",
   "metadata": {},
   "outputs": [],
   "source": [
    "# load data\n",
    "dataset = pd.read_csv(\"total.csv\", delimiter=',', low_memory=False)"
   ]
  },
  {
   "cell_type": "markdown",
   "id": "ea6f6729-bec5-454a-b54b-18656d626154",
   "metadata": {},
   "source": [
    "We drop the first column corresponding to the residue name since it does not provide any relevant information for the classification."
   ]
  },
  {
   "cell_type": "code",
   "execution_count": 3,
   "id": "664ad11d-d845-4b38-81f5-27a2f69b7a3b",
   "metadata": {},
   "outputs": [],
   "source": [
    "# remove residue column\n",
    "dataset = dataset.drop(columns = [\"residue\"])"
   ]
  },
  {
   "cell_type": "code",
   "execution_count": 4,
   "id": "7290dbca-e7f6-474c-a812-920d186949c3",
   "metadata": {},
   "outputs": [
    {
     "data": {
      "text/html": [
       "<div>\n",
       "<style scoped>\n",
       "    .dataframe tbody tr th:only-of-type {\n",
       "        vertical-align: middle;\n",
       "    }\n",
       "\n",
       "    .dataframe tbody tr th {\n",
       "        vertical-align: top;\n",
       "    }\n",
       "\n",
       "    .dataframe thead th {\n",
       "        text-align: right;\n",
       "    }\n",
       "</style>\n",
       "<table border=\"1\" class=\"dataframe\">\n",
       "  <thead>\n",
       "    <tr style=\"text-align: right;\">\n",
       "      <th></th>\n",
       "      <th>hydrophobicity</th>\n",
       "      <th>polarity</th>\n",
       "      <th>positive</th>\n",
       "      <th>negative</th>\n",
       "      <th>isoelectric point</th>\n",
       "      <th>secondary structure</th>\n",
       "      <th>sasa</th>\n",
       "      <th>A</th>\n",
       "      <th>R</th>\n",
       "      <th>N</th>\n",
       "      <th>...</th>\n",
       "      <th>M</th>\n",
       "      <th>F</th>\n",
       "      <th>P</th>\n",
       "      <th>S</th>\n",
       "      <th>T</th>\n",
       "      <th>W</th>\n",
       "      <th>Y</th>\n",
       "      <th>V</th>\n",
       "      <th>entropy</th>\n",
       "      <th>activity</th>\n",
       "    </tr>\n",
       "  </thead>\n",
       "  <tbody>\n",
       "    <tr>\n",
       "      <th>0</th>\n",
       "      <td>-4.2</td>\n",
       "      <td>-0.41</td>\n",
       "      <td>0.0</td>\n",
       "      <td>0.0</td>\n",
       "      <td>5.97</td>\n",
       "      <td>-</td>\n",
       "      <td>182.08</td>\n",
       "      <td>0</td>\n",
       "      <td>-3</td>\n",
       "      <td>-1</td>\n",
       "      <td>...</td>\n",
       "      <td>-3</td>\n",
       "      <td>-4</td>\n",
       "      <td>-2</td>\n",
       "      <td>1</td>\n",
       "      <td>-1</td>\n",
       "      <td>-3</td>\n",
       "      <td>-3</td>\n",
       "      <td>-3</td>\n",
       "      <td>184.064650</td>\n",
       "      <td>Non-binding</td>\n",
       "    </tr>\n",
       "    <tr>\n",
       "      <th>1</th>\n",
       "      <td>-4.2</td>\n",
       "      <td>-0.41</td>\n",
       "      <td>0.0</td>\n",
       "      <td>0.0</td>\n",
       "      <td>5.97</td>\n",
       "      <td>-</td>\n",
       "      <td>182.90</td>\n",
       "      <td>0</td>\n",
       "      <td>-3</td>\n",
       "      <td>-1</td>\n",
       "      <td>...</td>\n",
       "      <td>-3</td>\n",
       "      <td>-4</td>\n",
       "      <td>-3</td>\n",
       "      <td>-1</td>\n",
       "      <td>-2</td>\n",
       "      <td>-3</td>\n",
       "      <td>-4</td>\n",
       "      <td>-4</td>\n",
       "      <td>200.000000</td>\n",
       "      <td>Non-binding</td>\n",
       "    </tr>\n",
       "    <tr>\n",
       "      <th>2</th>\n",
       "      <td>38.5</td>\n",
       "      <td>-0.80</td>\n",
       "      <td>0.0</td>\n",
       "      <td>1.0</td>\n",
       "      <td>2.77</td>\n",
       "      <td>-</td>\n",
       "      <td>258.68</td>\n",
       "      <td>-2</td>\n",
       "      <td>-2</td>\n",
       "      <td>1</td>\n",
       "      <td>...</td>\n",
       "      <td>-3</td>\n",
       "      <td>-3</td>\n",
       "      <td>-2</td>\n",
       "      <td>-1</td>\n",
       "      <td>-2</td>\n",
       "      <td>-4</td>\n",
       "      <td>-1</td>\n",
       "      <td>-4</td>\n",
       "      <td>175.112454</td>\n",
       "      <td>Non-binding</td>\n",
       "    </tr>\n",
       "    <tr>\n",
       "      <th>3</th>\n",
       "      <td>-10.9</td>\n",
       "      <td>1.09</td>\n",
       "      <td>0.0</td>\n",
       "      <td>0.0</td>\n",
       "      <td>5.96</td>\n",
       "      <td>E</td>\n",
       "      <td>250.54</td>\n",
       "      <td>-1</td>\n",
       "      <td>-3</td>\n",
       "      <td>-3</td>\n",
       "      <td>...</td>\n",
       "      <td>0</td>\n",
       "      <td>-1</td>\n",
       "      <td>-3</td>\n",
       "      <td>-2</td>\n",
       "      <td>0</td>\n",
       "      <td>-3</td>\n",
       "      <td>-2</td>\n",
       "      <td>5</td>\n",
       "      <td>200.000000</td>\n",
       "      <td>Non-binding</td>\n",
       "    </tr>\n",
       "    <tr>\n",
       "      <th>4</th>\n",
       "      <td>-10.9</td>\n",
       "      <td>1.09</td>\n",
       "      <td>0.0</td>\n",
       "      <td>0.0</td>\n",
       "      <td>5.96</td>\n",
       "      <td>E</td>\n",
       "      <td>241.66</td>\n",
       "      <td>-1</td>\n",
       "      <td>-3</td>\n",
       "      <td>-4</td>\n",
       "      <td>...</td>\n",
       "      <td>1</td>\n",
       "      <td>-1</td>\n",
       "      <td>-3</td>\n",
       "      <td>-2</td>\n",
       "      <td>-1</td>\n",
       "      <td>-3</td>\n",
       "      <td>-1</td>\n",
       "      <td>4</td>\n",
       "      <td>170.771475</td>\n",
       "      <td>Non-binding</td>\n",
       "    </tr>\n",
       "  </tbody>\n",
       "</table>\n",
       "<p>5 rows × 29 columns</p>\n",
       "</div>"
      ],
      "text/plain": [
       "   hydrophobicity  polarity  positive  negative  isoelectric point   \n",
       "0            -4.2     -0.41       0.0       0.0               5.97  \\\n",
       "1            -4.2     -0.41       0.0       0.0               5.97   \n",
       "2            38.5     -0.80       0.0       1.0               2.77   \n",
       "3           -10.9      1.09       0.0       0.0               5.96   \n",
       "4           -10.9      1.09       0.0       0.0               5.96   \n",
       "\n",
       "  secondary structure    sasa  A  R  N  ...  M  F  P  S  T  W  Y  V   \n",
       "0                   -  182.08  0 -3 -1  ... -3 -4 -2  1 -1 -3 -3 -3  \\\n",
       "1                   -  182.90  0 -3 -1  ... -3 -4 -3 -1 -2 -3 -4 -4   \n",
       "2                   -  258.68 -2 -2  1  ... -3 -3 -2 -1 -2 -4 -1 -4   \n",
       "3                   E  250.54 -1 -3 -3  ...  0 -1 -3 -2  0 -3 -2  5   \n",
       "4                   E  241.66 -1 -3 -4  ...  1 -1 -3 -2 -1 -3 -1  4   \n",
       "\n",
       "      entropy     activity  \n",
       "0  184.064650  Non-binding  \n",
       "1  200.000000  Non-binding  \n",
       "2  175.112454  Non-binding  \n",
       "3  200.000000  Non-binding  \n",
       "4  170.771475  Non-binding  \n",
       "\n",
       "[5 rows x 29 columns]"
      ]
     },
     "execution_count": 4,
     "metadata": {},
     "output_type": "execute_result"
    }
   ],
   "source": [
    "# preview dataset\n",
    "dataset.head()"
   ]
  },
  {
   "cell_type": "code",
   "execution_count": 5,
   "id": "0f5ba069-7ec5-4327-b3f1-8ce5be2367ab",
   "metadata": {},
   "outputs": [
    {
     "name": "stdout",
     "output_type": "stream",
     "text": [
      "data set shape: (80720, 29)\n"
     ]
    }
   ],
   "source": [
    "# number of rows and columns in the datasets\n",
    "print(f\"data set shape: {dataset.shape}\")"
   ]
  },
  {
   "cell_type": "markdown",
   "id": "c8810dff-b3b3-4464-a152-96453a522ac5",
   "metadata": {},
   "source": [
    "The dataset contains 80.720 rows, that is the number of residues, and 29 columns, i.e., predictive features. One of these is the target variable: activity."
   ]
  },
  {
   "cell_type": "markdown",
   "id": "300f649c-1821-4771-afc7-039667d174be",
   "metadata": {},
   "source": [
    "## Analysis\n",
    "\n",
    "**We will analyse the following:**\n",
    "- The target feature\n",
    "- Feature types (categorical and numerical)\n",
    "- Missing data"
   ]
  },
  {
   "cell_type": "markdown",
   "id": "c9365506-37d2-47d2-ad3c-20a10571a3e0",
   "metadata": {},
   "source": [
    "### 1. The target feature"
   ]
  },
  {
   "cell_type": "code",
   "execution_count": 6,
   "id": "54e9eef4-d188-437f-821c-fd8698b4d7c9",
   "metadata": {},
   "outputs": [
    {
     "data": {
      "image/png": "[encoded data removed]",
      "text/plain": [
       "<Figure size 640x480 with 1 Axes>"
      ]
     },
     "metadata": {},
     "output_type": "display_data"
    }
   ],
   "source": [
    "# bar chart to evaluate target distribution\n",
    "x = [\"Non-binding\", \"Binding\"]\n",
    "height = list(dataset[\"activity\"].value_counts())\n",
    "\n",
    "plt.bar(\n",
    "    x= x,\n",
    "    height= dataset[\"activity\"].value_counts()\n",
    ")\n",
    "\n",
    "plt.xlabel(\"Activity\")\n",
    "plt.ylabel(\"Number of residues\") \n",
    "plt.show()"
   ]
  },
  {
   "cell_type": "code",
   "execution_count": 7,
   "id": "159969d9-bfc0-4b1a-bc2e-4a501ed50f55",
   "metadata": {},
   "outputs": [
    {
     "data": {
      "text/plain": [
       "activity\n",
       "Non-binding    76253\n",
       "Binding         4467\n",
       "Name: count, dtype: int64"
      ]
     },
     "execution_count": 7,
     "metadata": {},
     "output_type": "execute_result"
    }
   ],
   "source": [
    "dataset[\"activity\"].value_counts()"
   ]
  },
  {
   "cell_type": "markdown",
   "id": "5a94d25f-ee34-4b2b-be12-9a7b841515b6",
   "metadata": {},
   "source": [
    "As we can see from the plot and tableabove, the original dataset is imbalanced since it has a disproportionate ratio of samples for each class of the \"activity\" variable. Therefore, we must solve this and convert the unbalanced dataset to balanced."
   ]
  },
  {
   "cell_type": "markdown",
   "id": "4e5975a0-0183-4270-9c1d-3e5e9f102f61",
   "metadata": {},
   "source": [
    "### 2. Feature types"
   ]
  },
  {
   "cell_type": "code",
   "execution_count": 8,
   "id": "b6a32a49-40a0-4f8c-a949-394f90435e51",
   "metadata": {},
   "outputs": [
    {
     "name": "stdout",
     "output_type": "stream",
     "text": [
      "length: 2\n",
      "\n",
      "columns:\n",
      "['secondary structure', 'activity']\n"
     ]
    }
   ],
   "source": [
    "# identifying the categorical features by \n",
    "# capturing those of type *object*\n",
    "cat_cols = list(dataset.select_dtypes(include=[\"object\"]).columns)\n",
    "print(f\"length: {len(cat_cols)}\\n\\n\\\n",
    "columns:\\n{cat_cols}\")"
   ]
  },
  {
   "cell_type": "markdown",
   "id": "7a718844-f37b-4a8a-b50f-e6b16f54dc1c",
   "metadata": {},
   "source": [
    "Convert them all so that they are of numeric type."
   ]
  },
  {
   "cell_type": "code",
   "execution_count": 9,
   "id": "b8050a13-3769-46b9-9153-a38c0b59ba00",
   "metadata": {},
   "outputs": [],
   "source": [
    "# Convert the 'Non-binding' and 'Binding' labels into binary (0 and 1, respectively)\n",
    "dataset[\"activity\"] = dataset[\"activity\"].map({'Binding':1,'Non-binding':0}).astype(int)"
   ]
  },
  {
   "cell_type": "code",
   "execution_count": 10,
   "id": "4d4614c5-e64d-4ae3-96fb-5dbe33d717e2",
   "metadata": {
    "tags": []
   },
   "outputs": [],
   "source": [
    "# Convert DSSP's 8-state assignments into 3-state [C - coil, E - extended (beta-strand), H - helix]\n",
    "dataset[\"secondary structure\"] = dataset[\"secondary structure\"].map({'-':'C','I':'C','T':'C','S':'C','G':'H','B':'E','H':'H','C':'C','E':'E'})\n",
    "\n",
    "# Convert the 'C', 'H' and 'E' labels for the secondary structure to numeric(0,1 and 2 respectively)\n",
    "dataset[\"secondary structure\"] = dataset[\"secondary structure\"].map({'C':0,'H':1,'E':2}).astype(int)"
   ]
  },
  {
   "cell_type": "code",
   "execution_count": 11,
   "id": "72e4e48d-c98d-4139-a943-562aac349bf2",
   "metadata": {},
   "outputs": [
    {
     "name": "stdout",
     "output_type": "stream",
     "text": [
      "<class 'pandas.core.frame.DataFrame'>\n",
      "RangeIndex: 80720 entries, 0 to 80719\n",
      "Data columns (total 27 columns):\n",
      " #   Column             Non-Null Count  Dtype  \n",
      "---  ------             --------------  -----  \n",
      " 0   hydrophobicity     80720 non-null  float64\n",
      " 1   polarity           80720 non-null  float64\n",
      " 2   positive           80720 non-null  float64\n",
      " 3   negative           80720 non-null  float64\n",
      " 4   isoelectric point  80720 non-null  float64\n",
      " 5   sasa               80720 non-null  float64\n",
      " 6   A                  80720 non-null  int64  \n",
      " 7   R                  80720 non-null  int64  \n",
      " 8   N                  80720 non-null  int64  \n",
      " 9   D                  80720 non-null  int64  \n",
      " 10  C                  80720 non-null  int64  \n",
      " 11  Q                  80720 non-null  int64  \n",
      " 12  E                  80720 non-null  int64  \n",
      " 13  G                  80720 non-null  int64  \n",
      " 14  H                  80720 non-null  int64  \n",
      " 15  I                  80720 non-null  int64  \n",
      " 16  L                  80720 non-null  int64  \n",
      " 17  K                  80720 non-null  int64  \n",
      " 18  M                  80720 non-null  int64  \n",
      " 19  F                  80720 non-null  int64  \n",
      " 20  P                  80720 non-null  int64  \n",
      " 21  S                  80720 non-null  int64  \n",
      " 22  T                  80720 non-null  int64  \n",
      " 23  W                  80720 non-null  int64  \n",
      " 24  Y                  80720 non-null  int64  \n",
      " 25  V                  80720 non-null  int64  \n",
      " 26  entropy            80720 non-null  float64\n",
      "dtypes: float64(7), int64(20)\n",
      "memory usage: 16.6 MB\n"
     ]
    }
   ],
   "source": [
    "# checking the datatype of features that\n",
    "# were not of object type\n",
    "dataset[[\"hydrophobicity\", \"polarity\", \"positive\", \"negative\", \n",
    "         \"isoelectric point\", \"sasa\", \"A\",\"R\",\"N\",\"D\",\"C\",\"Q\",\"E\",\"G\",\"H\",\"I\",\"L\",\"K\",\"M\",\"F\",\"P\",\"S\",\"T\",\"W\",\"Y\",\"V\",\"entropy\"]].info()"
   ]
  },
  {
   "cell_type": "markdown",
   "id": "42b3528b-aef4-4140-af68-34f584414802",
   "metadata": {},
   "source": [
    "The pssm values are int64 and the other 7 features (i.e. hydrophobicity,polarity,positive,negative,isoelectric point,sasa and entropy) are floats64."
   ]
  },
  {
   "cell_type": "code",
   "execution_count": 12,
   "id": "1c720112-8a8f-4b41-8ad9-51d6137073a9",
   "metadata": {},
   "outputs": [],
   "source": [
    "# Round the 'entropy' values to 2 decimals\n",
    "dataset[\"entropy\"] = pd.to_numeric(dataset[\"entropy\"]).round(2)"
   ]
  },
  {
   "cell_type": "code",
   "execution_count": 13,
   "id": "9cb88c1f-0208-43ba-982a-ee70964099ec",
   "metadata": {},
   "outputs": [
    {
     "data": {
      "text/html": [
       "<div>\n",
       "<style scoped>\n",
       "    .dataframe tbody tr th:only-of-type {\n",
       "        vertical-align: middle;\n",
       "    }\n",
       "\n",
       "    .dataframe tbody tr th {\n",
       "        vertical-align: top;\n",
       "    }\n",
       "\n",
       "    .dataframe thead th {\n",
       "        text-align: right;\n",
       "    }\n",
       "</style>\n",
       "<table border=\"1\" class=\"dataframe\">\n",
       "  <thead>\n",
       "    <tr style=\"text-align: right;\">\n",
       "      <th></th>\n",
       "      <th>hydrophobicity</th>\n",
       "      <th>polarity</th>\n",
       "      <th>positive</th>\n",
       "      <th>negative</th>\n",
       "      <th>isoelectric point</th>\n",
       "      <th>secondary structure</th>\n",
       "      <th>sasa</th>\n",
       "      <th>A</th>\n",
       "      <th>R</th>\n",
       "      <th>N</th>\n",
       "      <th>...</th>\n",
       "      <th>M</th>\n",
       "      <th>F</th>\n",
       "      <th>P</th>\n",
       "      <th>S</th>\n",
       "      <th>T</th>\n",
       "      <th>W</th>\n",
       "      <th>Y</th>\n",
       "      <th>V</th>\n",
       "      <th>entropy</th>\n",
       "      <th>activity</th>\n",
       "    </tr>\n",
       "  </thead>\n",
       "  <tbody>\n",
       "    <tr>\n",
       "      <th>0</th>\n",
       "      <td>-4.2</td>\n",
       "      <td>-0.41</td>\n",
       "      <td>0.0</td>\n",
       "      <td>0.0</td>\n",
       "      <td>5.97</td>\n",
       "      <td>0</td>\n",
       "      <td>182.08</td>\n",
       "      <td>0</td>\n",
       "      <td>-3</td>\n",
       "      <td>-1</td>\n",
       "      <td>...</td>\n",
       "      <td>-3</td>\n",
       "      <td>-4</td>\n",
       "      <td>-2</td>\n",
       "      <td>1</td>\n",
       "      <td>-1</td>\n",
       "      <td>-3</td>\n",
       "      <td>-3</td>\n",
       "      <td>-3</td>\n",
       "      <td>184.06</td>\n",
       "      <td>0</td>\n",
       "    </tr>\n",
       "    <tr>\n",
       "      <th>1</th>\n",
       "      <td>-4.2</td>\n",
       "      <td>-0.41</td>\n",
       "      <td>0.0</td>\n",
       "      <td>0.0</td>\n",
       "      <td>5.97</td>\n",
       "      <td>0</td>\n",
       "      <td>182.90</td>\n",
       "      <td>0</td>\n",
       "      <td>-3</td>\n",
       "      <td>-1</td>\n",
       "      <td>...</td>\n",
       "      <td>-3</td>\n",
       "      <td>-4</td>\n",
       "      <td>-3</td>\n",
       "      <td>-1</td>\n",
       "      <td>-2</td>\n",
       "      <td>-3</td>\n",
       "      <td>-4</td>\n",
       "      <td>-4</td>\n",
       "      <td>200.00</td>\n",
       "      <td>0</td>\n",
       "    </tr>\n",
       "    <tr>\n",
       "      <th>2</th>\n",
       "      <td>38.5</td>\n",
       "      <td>-0.80</td>\n",
       "      <td>0.0</td>\n",
       "      <td>1.0</td>\n",
       "      <td>2.77</td>\n",
       "      <td>0</td>\n",
       "      <td>258.68</td>\n",
       "      <td>-2</td>\n",
       "      <td>-2</td>\n",
       "      <td>1</td>\n",
       "      <td>...</td>\n",
       "      <td>-3</td>\n",
       "      <td>-3</td>\n",
       "      <td>-2</td>\n",
       "      <td>-1</td>\n",
       "      <td>-2</td>\n",
       "      <td>-4</td>\n",
       "      <td>-1</td>\n",
       "      <td>-4</td>\n",
       "      <td>175.11</td>\n",
       "      <td>0</td>\n",
       "    </tr>\n",
       "    <tr>\n",
       "      <th>3</th>\n",
       "      <td>-10.9</td>\n",
       "      <td>1.09</td>\n",
       "      <td>0.0</td>\n",
       "      <td>0.0</td>\n",
       "      <td>5.96</td>\n",
       "      <td>2</td>\n",
       "      <td>250.54</td>\n",
       "      <td>-1</td>\n",
       "      <td>-3</td>\n",
       "      <td>-3</td>\n",
       "      <td>...</td>\n",
       "      <td>0</td>\n",
       "      <td>-1</td>\n",
       "      <td>-3</td>\n",
       "      <td>-2</td>\n",
       "      <td>0</td>\n",
       "      <td>-3</td>\n",
       "      <td>-2</td>\n",
       "      <td>5</td>\n",
       "      <td>200.00</td>\n",
       "      <td>0</td>\n",
       "    </tr>\n",
       "    <tr>\n",
       "      <th>4</th>\n",
       "      <td>-10.9</td>\n",
       "      <td>1.09</td>\n",
       "      <td>0.0</td>\n",
       "      <td>0.0</td>\n",
       "      <td>5.96</td>\n",
       "      <td>2</td>\n",
       "      <td>241.66</td>\n",
       "      <td>-1</td>\n",
       "      <td>-3</td>\n",
       "      <td>-4</td>\n",
       "      <td>...</td>\n",
       "      <td>1</td>\n",
       "      <td>-1</td>\n",
       "      <td>-3</td>\n",
       "      <td>-2</td>\n",
       "      <td>-1</td>\n",
       "      <td>-3</td>\n",
       "      <td>-1</td>\n",
       "      <td>4</td>\n",
       "      <td>170.77</td>\n",
       "      <td>0</td>\n",
       "    </tr>\n",
       "  </tbody>\n",
       "</table>\n",
       "<p>5 rows × 29 columns</p>\n",
       "</div>"
      ],
      "text/plain": [
       "   hydrophobicity  polarity  positive  negative  isoelectric point   \n",
       "0            -4.2     -0.41       0.0       0.0               5.97  \\\n",
       "1            -4.2     -0.41       0.0       0.0               5.97   \n",
       "2            38.5     -0.80       0.0       1.0               2.77   \n",
       "3           -10.9      1.09       0.0       0.0               5.96   \n",
       "4           -10.9      1.09       0.0       0.0               5.96   \n",
       "\n",
       "   secondary structure    sasa  A  R  N  ...  M  F  P  S  T  W  Y  V  entropy   \n",
       "0                    0  182.08  0 -3 -1  ... -3 -4 -2  1 -1 -3 -3 -3   184.06  \\\n",
       "1                    0  182.90  0 -3 -1  ... -3 -4 -3 -1 -2 -3 -4 -4   200.00   \n",
       "2                    0  258.68 -2 -2  1  ... -3 -3 -2 -1 -2 -4 -1 -4   175.11   \n",
       "3                    2  250.54 -1 -3 -3  ...  0 -1 -3 -2  0 -3 -2  5   200.00   \n",
       "4                    2  241.66 -1 -3 -4  ...  1 -1 -3 -2 -1 -3 -1  4   170.77   \n",
       "\n",
       "   activity  \n",
       "0         0  \n",
       "1         0  \n",
       "2         0  \n",
       "3         0  \n",
       "4         0  \n",
       "\n",
       "[5 rows x 29 columns]"
      ]
     },
     "execution_count": 13,
     "metadata": {},
     "output_type": "execute_result"
    }
   ],
   "source": [
    "# preview dataset\n",
    "dataset.head()"
   ]
  },
  {
   "cell_type": "markdown",
   "id": "c8a4458d-d95c-4138-995a-480cd5103262",
   "metadata": {},
   "source": [
    "### 3. Missing data"
   ]
  },
  {
   "cell_type": "markdown",
   "id": "8126e91b-3086-4227-b758-1a4bc2a12530",
   "metadata": {},
   "source": [
    "Many machine learning models require us to deal with missing values before passing the training data to it. Understanding the features with missing values could provide us some insight into how to deal with that particular feature (i.e. imputation or deletion)."
   ]
  },
  {
   "cell_type": "code",
   "execution_count": 14,
   "id": "b7e63f2a-f736-4ab8-baa8-32d122be8322",
   "metadata": {},
   "outputs": [
    {
     "name": "stdout",
     "output_type": "stream",
     "text": [
      "hydrophobicity         0\n",
      "polarity               0\n",
      "positive               0\n",
      "negative               0\n",
      "isoelectric point      0\n",
      "secondary structure    0\n",
      "sasa                   0\n",
      "A                      0\n",
      "R                      0\n",
      "N                      0\n",
      "D                      0\n",
      "C                      0\n",
      "Q                      0\n",
      "E                      0\n",
      "G                      0\n",
      "H                      0\n",
      "I                      0\n",
      "L                      0\n",
      "K                      0\n",
      "M                      0\n",
      "F                      0\n",
      "P                      0\n",
      "S                      0\n",
      "T                      0\n",
      "W                      0\n",
      "Y                      0\n",
      "V                      0\n",
      "entropy                0\n",
      "activity               0\n",
      "dtype: int64\n"
     ]
    }
   ],
   "source": [
    "# Check the presence of NULL values in all columns of the dataframe\n",
    "print (dataset.isnull().sum())"
   ]
  },
  {
   "cell_type": "markdown",
   "id": "2eb5a83c-58e6-4b88-bd11-500e7ba5d03e",
   "metadata": {},
   "source": [
    "From the table above, we can verify that there is no missing data in any dataframe column. Therefore, the original dataset is clean and it does not need an extensive preprossesing. Nevertheless, there are definitely more analysis that can be performed to better grasp the nature of this data. For instance, we could perform more anaysis to understand the relationship of the features with the target, and we can look at the distributions of the features itself. However, we prefer to carry out that step after fitting some models to the data and understanding why certain features are more important than others.\n"
   ]
  },
  {
   "cell_type": "code",
   "execution_count": 15,
   "id": "0c1af4be-e55a-43ad-ba21-1d2db8751709",
   "metadata": {},
   "outputs": [],
   "source": [
    "# save the resulting dataset\n",
    "dataset.to_csv('cleaned_dataset.csv', index=False)"
   ]
  }
 ],
 "metadata": {
  "kernelspec": {
   "display_name": "nona",
   "language": "python",
   "name": "nona"
  },
  "language_info": {
   "codemirror_mode": {
    "name": "ipython",
    "version": 3
   },
   "file_extension": ".py",
   "mimetype": "text/x-python",
   "name": "python",
   "nbconvert_exporter": "python",
   "pygments_lexer": "ipython3",
   "version": "3.10.9"
  }
 },
 "nbformat": 4,
 "nbformat_minor": 5
}
